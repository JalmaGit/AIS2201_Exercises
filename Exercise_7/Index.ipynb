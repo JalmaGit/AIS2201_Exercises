{
 "cells": [
  {
   "cell_type": "markdown",
   "id": "4cb201c1-d614-4ec9-b473-4b2ad95ae22c",
   "metadata": {},
   "source": [
    "# Exercise 7: Test Framework for Individual Project\n",
    "\n",
    "In **Exercise 6** we implemented a simple frequency detection algorithm on an STM32, with the aim of detecting the dominant frequency of an analog voltage signal which was measured with the STM32's internal ADC. The frequency detection algorithm in question does the following:\n",
    "\n",
    "1. Divides the input signal $x[n]$  into \"windows\" of length $N$ samples.\n",
    "2. Calculates the one-sided DFT for real-valued signals (RFFT).\n",
    "3. Identifies the highest peak location along the frequency axis (ignoring the DC component $X[0]$).\n",
    "5. Returns peak location as frequency in Hz, which is calculated using the sampling frequency.\n",
    "\n",
    "Run the cell below to load a python function wich performs this exact frequency detection operation on an array of arbitrary length:"
   ]
  },
  {
   "cell_type": "code",
   "id": "d13e22dc-c18f-4d82-8823-b392d188d66d",
   "metadata": {
    "ExecuteTime": {
     "end_time": "2024-10-22T00:18:19.053394Z",
     "start_time": "2024-10-22T00:18:18.988628Z"
    }
   },
   "source": [
    "# %load baseline_algorithm.py\n",
    "import numpy as np\n",
    "def freq_detection(x_n: np.ndarray, fs: int, N: int = 1024)->float:\n",
    "    \"\"\"\n",
    "    Identifies the primary sinusoidal component in a signal x[n]\n",
    "    over time by calculting successive N-point DFTs of x[n], and\n",
    "    selecting the frequency component with the highest magnitude. \n",
    "\n",
    "    Parameters:\n",
    "    x_n - signal samples x[n] to be analyzed\n",
    "    fs - sampling frequency\n",
    "    N - DFT window size in number of samples \n",
    "        Defaults to 1024 samples\n",
    "\n",
    "    Returns:\n",
    "    timestamps - ndarray of floats\n",
    "        Points in time at which frequency contents were estimated.\n",
    "    freqs - ndarray of floats\n",
    "        Most prominent frequency detected for corresponding timestamp\n",
    "        values.\n",
    "    \"\"\"\n",
    "    timestamps = []\n",
    "    freqs = []\n",
    "    for window_start in range(0, len(x_n), N):\n",
    "        window_end = window_start + N if len(x_n) >= N else len(x_n)\n",
    "        x_slice = x_n[window_start:window_end]\n",
    "        X_m = np.fft.rfft(x_slice, n = N)  # Calculate one-sided DFT\n",
    "        X_m[0] = 0  # Set the DC component to 0\n",
    "        m_peak = np.argmax(np.abs(X_m))  # Find the index of the highest peak in 'X_m'\n",
    "        freqs.append(m_peak/N*fs)  # Convert frequency index to wave frequency 'f' in hertz\n",
    "        timestamps.append(window_end/fs)\n",
    "    return timestamps, freqs"
   ],
   "outputs": [],
   "execution_count": 2
  },
  {
   "cell_type": "markdown",
   "id": "fb49a818-27bb-4473-978c-725977c9ccc6",
   "metadata": {},
   "source": [
    "We can conduct a simple test of this frequency detection function by generating a test signal of e.g. length $N$ samples for a given frequency $f$. To make it more interesting, we can also add some gaussian white noise to the measured signal to simulate external disturbances to the measurement.\n",
    "\n",
    "Test parameters: \n",
    "* $N = 1024$ samples\n",
    "* $fs = 10\\ 000$ samples/second\n",
    "* $f = 440$ Hz\n",
    "* $A = 1V$\n",
    "* $\\sigma_n^2 = 1 V^2$ (Noise power)"
   ]
  },
  {
   "cell_type": "code",
   "id": "7d03c34a-e391-40c7-9f3c-a00d447dfce6",
   "metadata": {
    "ExecuteTime": {
     "end_time": "2024-10-22T00:18:32.951803Z",
     "start_time": "2024-10-22T00:18:32.589724Z"
    }
   },
   "source": [
    "import matplotlib.pyplot as plt\n",
    "# Test parameters \n",
    "fs = 10_000  # Samples/second\n",
    "N = 4*fs  # Samples \n",
    "f = 435  # Hertz\n",
    "A = 1  # Volts\n",
    "noise_var = 1 # V^2\n",
    "\n",
    "# Generate test signal\n",
    "import numpy as np\n",
    "t_n = np.arange(N)/fs  # Array of sample times\n",
    "signal = A*np.sin(2*np.pi*f*t_n) # Pure sine tone \n",
    "noise = np.random.normal(scale=np.sqrt(noise_var), size=N)  # Gaussian noise\n",
    "x_n = signal+noise  # Add noise to pure sine to create simulated signal\n",
    "\n",
    "# Plot detected frequency vs. true frequency\n",
    "t_est, f_est = freq_detection(x_n, fs)\n",
    "\n",
    "plt.close(1); plt.figure(1)\n",
    "plt.plot(t_est, f_est, label=\"Frequency estimates\")\n",
    "plt.plot([0, t_est[-1]], [f, f], label=\"True frequency\")\n",
    "plt.legend()"
   ],
   "outputs": [
    {
     "data": {
      "text/plain": [
       "<matplotlib.legend.Legend at 0x7eca108f7d90>"
      ]
     },
     "execution_count": 3,
     "metadata": {},
     "output_type": "execute_result"
    },
    {
     "data": {
      "text/plain": [
       "<Figure size 640x480 with 1 Axes>"
      ],
      "image/png": "[encoded data removed]"
     },
     "metadata": {},
     "output_type": "display_data"
    }
   ],
   "execution_count": 3
  },
  {
   "cell_type": "markdown",
   "id": "3f61ca24-d411-4912-b21d-bbfb73e141ea",
   "metadata": {},
   "source": [
    "As we can see, even with some noise the frequency detection algorithm reports the presence of a frequeny which is fairly close to the true wave frequency, with an error determined mainly by the resolution bandwidth $\\Delta f$ for the window size.\n",
    "\n",
    "The first milestone for your individual project is to create a test framework for your improved frequency detection system which can simulate a variety of input signals, and subject the frequency detection algorithm to these test signals. The goal is to create a system for evaluating the performance of the frequency detection algorithm given a some of specific types of input signal. This way you can have a basis for evaluating the performance of your improved frequency detection system, using the frequency detection system from **Assignment 6** as expressed in `baseline_algorithm.py` as a basis for comparison.\n",
    "\n",
    "|Test | Case |\n",
    "|---|---|\n",
    "|[Test 1](Test1_Frequency_Step.ipynb)| Tracking abrupt changes in frequency. |\n",
    "|[Test 2](Test2_Pure_Sine.ipynb)| Sinusoidal signal with added noise.|\n",
    "|[Test 3](Test3_Audio.ipynb)| \"Real-world\" signal with added noise.|\n",
    "|[Test 4](Test4_Extra_cases.ipynb)| Optional, other useful tests you may think of.|"
   ]
  }
 ],
 "metadata": {
  "kernelspec": {
   "display_name": "Python 3 (ipykernel)",
   "language": "python",
   "name": "python3"
  },
  "language_info": {
   "codemirror_mode": {
    "name": "ipython",
    "version": 3
   },
   "file_extension": ".py",
   "mimetype": "text/x-python",
   "name": "python",
   "nbconvert_exporter": "python",
   "pygments_lexer": "ipython3",
   "version": "3.11.5"
  }
 },
 "nbformat": 4,
 "nbformat_minor": 5
}
