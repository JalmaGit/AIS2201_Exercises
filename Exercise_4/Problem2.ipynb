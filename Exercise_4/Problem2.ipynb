{
 "cells": [
  {
   "cell_type": "markdown",
   "metadata": {
    "deletable": false,
    "editable": false,
    "nbgrader": {
     "cell_type": "markdown",
     "checksum": "024ab0af4c269c44579c46cfbea4efb1",
     "grade": false,
     "grade_id": "cell-29b0aa29981ff87c",
     "locked": true,
     "schema_version": 3,
     "solution": false,
     "task": false
    }
   },
   "source": [
    "# Signal synthesis using IDFT\n",
    "\n",
    "__Desired Learning Outcomes__:\n",
    "* Experiencing the connection between the DFT sequence and the composition of a signal.\n",
    "* How to add, subtract and adjust individual constituent sinusoids in a signal using IDFT.\n",
    "\n",
    "__Libraries and notebook-config:__"
   ]
  },
  {
   "cell_type": "code",
   "metadata": {
    "ExecuteTime": {
     "end_time": "2024-09-17T07:57:40.578117Z",
     "start_time": "2024-09-17T07:57:40.256684Z"
    }
   },
   "source": [
    "from numpy import sin, cos, pi, exp, mean, absolute, angle, conj # Sentrale matematiske funksjoner\n",
    "from numpy.fft import fft, ifft             # DFT og IDFT\n",
    "import numpy as np                          # Importer funksjonalitet fra numpy biblioteket med prefiks \"np\"\n",
    "import matplotlib.pyplot as plt             # Importer pyplot modulen i matplotlib med prefiks \"plt\"\n",
    "\n",
    "%matplotlib ipympl"
   ],
   "outputs": [],
   "execution_count": 1
  },
  {
   "cell_type": "markdown",
   "metadata": {},
   "source": [
    "**Introduction:**\n",
    "\n",
    "Fourier transformation can be used for more than just identifying frequency components in a signal. A DFT is a *complete* decomposition of a signal, meaning that it contains all the information necessary to reconstruct a signal from its frequency components.\n",
    "\n",
    "In this task, we will construct a signal by adding and modifying the components in the frequency domain, and then calculate a signal in the time domain using the IDFT. Below is an example that shows the mathematics behind signal generation using IDFT. The signal generated is 64 samples of a sinusoidal sequence given by the formula $ x[n] = 2\\cdot \\cos\\left(2\\pi \\frac{4}{64}\\cdot n - \\frac{\\pi}{3} \\right), \\ \\ \\ 0 \\leq n < 64 $.\n",
    "\n",
    "* Determine which indices in the DFT sequence correspond to a sinusoidal signal with normalized angular frequency $ \\hat{\\omega} = 2\\pi \\frac{4}{64} $:\n",
    "$$\\pm \\hat{\\omega}_k = \\pm 2\\pi \\cdot \\frac{4}{64} = \\pm 2\\pi \\cdot \\frac{k}{N}, \\ \\ \\ N = 64$$\n",
    "$$k = \\pm 4 $$\n",
    "$$ \\downarrow$$\n",
    "$$\\text{(negative numbers 'roll over' and count down from the highest index.) }$$\n",
    "$$ \\downarrow$$\n",
    "$$ k = \\pm 4 \\% 64$$\n",
    " \n",
    "$$\n",
    "k =\n",
    "\\begin{cases}\n",
    "\\begin{align}\n",
    "4\\ \\ \\ & \\text{(positive frequency component)} \\\\\n",
    "-4 \\% 64 = 64 - 4 = 60\\ \\ \\ & \\text{(negative frequency component)}\n",
    "\\end{align}\n",
    "\\end{cases}\n",
    "$$\n",
    " \n",
    "\n",
    "* Find the complex amplitude $ a_k $ so that the signal can be written as $ x[n] = a_k \\cdot e^{j\\hat{\\omega}_k\\cdot n} + a_k^{*} \\cdot e^{-j\\hat{\\omega}_k\\cdot n} $:\n",
    "$$2\\cdot \\cos \\left(2\\pi \\frac{4}{64}\\cdot n - \\frac{\\pi}{3} \\right) = e^{-j\\frac{\\pi}{3}}\\cdot e^{j2\\pi \\frac{4}{64}\\cdot n} + e^{j\\frac{\\pi}{3}}\\cdot e^{-j2\\pi \\frac{4}{64}\\cdot n}$$\n",
    "$$a_4 = e^{-j\\frac{\\pi}{3}}$$\n",
    " \n",
    " \n",
    "* Set the relevant elements in \\( X[k] \\) to the correct value *(here we need to multiply by the number of samples in the DFT sequence)*\n",
    "$$\n",
    "X[k] = \n",
    "\\begin{cases}\n",
    "\\begin{align}\n",
    "N \\cdot a_4= 64 \\cdot e^{-j\\frac{\\pi}{3}},\\ \\ \\  & k = 4 \\\\\n",
    "N \\cdot a_4^{*} = 64\\cdot e^{j\\frac{\\pi}{3}},\\ \\ \\  & k = 60 \\\\\n",
    "0 \\ \\ \\ & otherwise\n",
    "\\end{align}\n",
    "\\end{cases}\n",
    "$$\n",
    " \n",
    " \n",
    "* The inverse DFT gives the desired signal:\n",
    "$$x[n] = IDFT(X[k])$$\n",
    "\n",
    "\n",
    "The code cell below performs the last two steps in this process. The parameters `k`, `A`, and `phi` are arrays, allowing us to build a signal with one or more sinusoidal sequences. For now, the code will only generate the signal from the above calculation.\n",
    "\n",
    "*Note: Take note that we only need to specify the positive frequency components. Code to compute the complex conjugate \"mirror image\" that contains the negative frequency components is already included.*\n",
    "\n",
    "<!--\n",
    "Original norsk tekst:\n",
    "\n",
    "**Introduction**\n",
    "The fourier transfomr can be used for more than\n",
    "\n",
    "\n",
    "Fouriertransformasjon kan brukes til mer enn å identifisere frekvenskomponenter i et signal. En DFT er en *fullstendig* dekomposisjon av et signal, som betyr at den inneholder all informasjon som er nødvendig for å rekonstruere et signal fra frekvenskomponentene. \n",
    "\n",
    "I denne oppgaven skal vi konstruere signal ved å legge til og modifisere komponentene i frekvensplanet, for så å regne oss frem til et signal i tidsdomenet med bruk av IDFT. Nedenfor føgler et eksempel som viser matematikken rundt signalgenerasjon med IDFT. Signalet som genereres er 64 sampler av en sinussekvens gitt ved formelen $x[n] = 2\\cdot \\cos\\left(2\\pi \\frac{4}{64}\\cdot n - \\frac{\\pi}{3} \\right), \\ \\ \\ 0 \\leq n < 64$.\n",
    "* Finn ut hvilkde indekser i DFT-sekvensen som vil korrespondere med et sinussignal med normalisert vinkelfrekvens $\\hat{\\omega} = 2\\pi \\frac{4}{64}$:\n",
    "$$\\pm \\hat{\\omega}_k = \\pm 2\\pi \\cdot \\frac{4}{64} = \\pm 2\\pi \\cdot \\frac{k}{N}, \\ \\ \\ N = 64$$\n",
    "$$k = \\pm 4 $$ \n",
    "$$ \\downarrow$$\n",
    "$$\\text{(negative tall 'ruller over' og teller ned fra høyeste indeks.) }$$\n",
    "$$ \\downarrow$$\n",
    "$$ k = \\pm 4 \\% 64$$\n",
    " \n",
    "$$\n",
    "k =\n",
    "\\begin{cases}\n",
    "\\begin{align}\n",
    "4\\ \\ \\ & \\text{(positiv frekvenskomponent)} \\\\\n",
    "-4 \\% 64 = 64 - 4 = 60\\ \\ \\ & \\text{(negativ frekvenskomponent)}\n",
    "\\end{align}\n",
    "\\end{cases}\n",
    "$$\n",
    " \n",
    "\n",
    "* Finn den komplekse amplituden $a_k$ slik at signalet kan skrives som $x[n] = a_k \\cdot e^{j\\hat{\\omega}_k\\cdot n} + a_k^{*} \\cdot e^{-j\\hat{\\omega}_k\\cdot n}$:\n",
    "Decomposition of signal into complex ecponentials:\n",
    "$$2\\cdot \\cos \\left(2\\pi \\frac{4}{64}\\cdot n - \\frac{\\pi}{3} \\right) = e^{-j\\frac{\\pi}{3}}\\cdot e^{j2\\pi \\frac{4}{64}\\cdot n} + e^{j\\frac{\\pi}{3}}\\cdot e^{-j2\\pi \\frac{4}{64}\\cdot n}$$\n",
    "$$a_4 = e^{-j\\frac{\\pi}{3}}$$\n",
    " \n",
    " \n",
    "* Sett de aktuelle elementene i $X[k]$ til riktig verdi *(her må vi multiplisere med antall sampler i DFT-sekvensen)*\n",
    "$$\n",
    "X[k] = \n",
    "\\begin{cases}\n",
    "\\begin{align}\n",
    "N \\cdot a_4= 64 \\cdot e^{-j\\frac{\\pi}{3}},\\ \\ \\  & k = 4 \\\\\n",
    "N \\cdot a_4^{*} = 64\\cdot e^{j\\frac{\\pi}{3}},\\ \\ \\  & k = 60 \\\\\n",
    "0 \\ \\ \\ & ellers\n",
    "\\end{align}\n",
    "\\end{cases}\n",
    "$$\n",
    " \n",
    " \n",
    "* Invers DFT gir det ønskede signalet:\n",
    "$$x[n] = IDFT(X[k])$$\n",
    "\n",
    "\n",
    "Kodecellen nedenfor utfører de to siste stegene i denne prosessen. Parmaetrene `k`, `A` og `phi` er arrays, noe som lar oss bygge et signal med én eller flere sinussekvenser. Foreløpig vil koden kun generere signalet fra utregningen ovenfor. \n",
    "\n",
    "*NB! legg merke til at vi kun trenger å angi de positive frekvenskomponentene. Kode for å regne ut det komplekskonjugerte \"speilbildet\" som inneholder de negative frekvenskomponentene er allerede inkludert.*\n",
    "-->"
   ]
  },
  {
   "metadata": {
    "ExecuteTime": {
     "end_time": "2024-09-17T09:26:46.191877Z",
     "start_time": "2024-09-17T09:26:46.188900Z"
    }
   },
   "cell_type": "code",
   "source": "print(96*4/64)",
   "outputs": [
    {
     "name": "stdout",
     "output_type": "stream",
     "text": [
      "6.0\n"
     ]
    }
   ],
   "execution_count": 22
  },
  {
   "cell_type": "code",
   "metadata": {
    "ExecuteTime": {
     "end_time": "2024-09-17T09:30:43.564421Z",
     "start_time": "2024-09-17T09:30:43.473369Z"
    }
   },
   "source": [
    "# Parametre for sinusledd(ene)\n",
    "N = 96                        # Number of signal samples represented in the frequency domain\n",
    "Xm = 1j*np.zeros(N)            # \"Blank page\" DFT with room for N=64 frequency components\n",
    "\n",
    "# Add frequency component with A=2, phi=-pi/3 and frequency index m=4.\n",
    "# Match it with a complex conjugate \"twin\" in index m=N-4.\n",
    "Xm[6], Xm[N-6] = 2/2*N*exp(-1j*pi/3), 2/2*N*exp(1j*pi/3)\n",
    "\n",
    "A_k = 2.3\n",
    "phi_k = 3*np.pi/5\n",
    "\n",
    "a_9 = A_k/2 * exp(1j*phi_k) \n",
    "a_9s = A_k/2 * exp(-1j*phi_k)\n",
    "\n",
    "Xm[9], Xm[N-9] = N*a_9, N*a_9s\n",
    "\n",
    "# Perform Inverse Discrete Fourier Transformation\n",
    "xn = np.fft.ifft(np.conj(Xm))\n",
    "\n",
    "# If the array 'xn' is a purely real signal, create a stem plot of the signal\n",
    "if(np.sum(np.absolute(np.imag(xn)))>1e-10):\n",
    "    print(\"DFT conjugate symmetry not maintained. IDFT produced complex signal.\")\n",
    "else:\n",
    "    plt.close(1); plt.figure(1, figsize=(9,3))\n",
    "    plt.stem(np.real(xn), # Real signal values (x[n])\n",
    "             linefmt='-', # Line style for stem lines\n",
    "             markerfmt='.', # Marker style set to '.'. Default is 'o' (big dot)\n",
    "             basefmt='grey', # Adjust color of baseline at x-axis\n",
    "            )\n",
    "    plt.xlabel(\"Samplenummer 'n'\")\n",
    "    plt.ylabel(\"x[n]\")\n",
    "    plt.xlim([0, N])\n",
    "    plt.grid(True)\n",
    "    plt.tight_layout()"
   ],
   "outputs": [
    {
     "data": {
      "text/plain": [
       "Canvas(toolbar=Toolbar(toolitems=[('Home', 'Reset original view', 'home', 'home'), ('Back', 'Back to previous …"
      ],
      "image/png": "[encoded data removed]",
      "text/html": [
       "\n",
       "            <div style=\"display: inline-block;\">\n",
       "                <div class=\"jupyter-widgets widget-label\" style=\"text-align: center;\">\n",
       "                    Figure\n",
       "                </div>\n",
       "                <img src='data:image/png;base64,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' width=900.0/>\n",
       "            </div>\n",
       "        "
      ],
      "application/vnd.jupyter.widget-view+json": {
       "version_major": 2,
       "version_minor": 0,
       "model_id": "5296f9e03be946a9b5aa258c67aea410"
      }
     },
     "metadata": {},
     "output_type": "display_data"
    }
   ],
   "execution_count": 31
  },
  {
   "cell_type": "markdown",
   "metadata": {
    "deletable": false,
    "editable": false,
    "nbgrader": {
     "cell_type": "markdown",
     "checksum": "07d35441dea19b5fab7a03b881e0baaa",
     "grade": false,
     "grade_id": "cell-766c728aabc8e8c8",
     "locked": true,
     "points": 2,
     "schema_version": 3,
     "solution": false,
     "task": true
    }
   },
   "source": [
    "Run the code above and study the figures that are generated. It might also be beneficial to do some experimentation by adjusting some of the parameters and observing what happens.\n",
    "\n",
    "\n",
    "## a) \n",
    "* Add a new sinusoidal component with normalized angular frequency $ \\hat{\\omega} = \\frac{3\\pi}{16} $, amplitude $ A_k = 2.3 $, and phase $ \\phi_k = \\frac{3\\pi}{5} $ by adding a new element to the arrays `k`, $A_k$, and $\\phi_k$.<!--Legg til en ny sinuskomponent med normalisert vinkelfrekvens $\\hat{\\omega} = \\frac{3\\pi}{16}$, amplitude $A = 2.3$ og fase $\\phi = \\frac{3\\pi}{5}$ ved å legge til et nytt element arrayene `k`, `A` og `phi`.-->\n",
    "\n",
    "\n"
   ]
  },
  {
   "cell_type": "markdown",
   "metadata": {
    "deletable": false,
    "editable": false,
    "nbgrader": {
     "cell_type": "markdown",
     "checksum": "b05975db33d3fd6ec1e23a739b589036",
     "grade": false,
     "grade_id": "cell-aad7949ec57617cd",
     "locked": true,
     "points": 2,
     "schema_version": 3,
     "solution": false,
     "task": true
    }
   },
   "source": [
    "## b) \n",
    "* We want to generate more samples of the same signal. Make additional changes to the variables `k`, `A`, and `phi` as well as `N` to produce 96 samples instead of 64. Ensure that the angular frequencies of the sinusoidal components remain unchanged."
   ]
  },
  {
   "cell_type": "markdown",
   "metadata": {
    "deletable": false,
    "editable": false,
    "nbgrader": {
     "cell_type": "markdown",
     "checksum": "9e5b4b94b0dd5544cbfbc1a899adb831",
     "grade": false,
     "grade_id": "cell-31c72b25e32582ac",
     "locked": true,
     "points": 2,
     "schema_version": 3,
     "solution": false,
     "task": true
    }
   },
   "source": [
    "## c)\n",
    "* Subject the entire signal to time-referseal (e.g. $y[n] = x[-n]$). The connection bewteen time-domain reversal, and it's frequency-domain equivalent is described below:\n",
    "$$\\begin{align}\n",
    "y[n] &= x[-n] \\\\\n",
    "&\\Downarrow \\\\\n",
    "Y(f) &= X^{*}(f)\n",
    "\\end{align}\n",
    "$$\n",
    "  \n",
    "<!--\n",
    "* Differentiate the signal in the frequency domain by multiplying $X[m]$ by $j\\omega[m]$.\n",
    "* Subject the entire signal to  $M=-17$ samples of time delay by adjusting the phase of the frequency components. Remember, shifting in the time domain equals complex rotation in frequency domain:\n",
    "\n",
    "$$\\begin{align}\n",
    "y[n] &= x[n-M]\\\\\n",
    "&\\Downarrow \\\\\n",
    "Y(f) &= X(f) \\cdot e^{-j2\\pi f\\cdot M} \n",
    "\\end{align}$$-->"
   ]
  },
  {
   "cell_type": "markdown",
   "metadata": {},
   "source": [
    "*PS: [Here](Figures/task2_sol.png) is what the graph shuld look like after completion of tasks **a)** through **c)***."
   ]
  }
 ],
 "metadata": {
  "kernelspec": {
   "display_name": "Python 3 (ipykernel)",
   "language": "python",
   "name": "python3"
  },
  "language_info": {
   "codemirror_mode": {
    "name": "ipython",
    "version": 3
   },
   "file_extension": ".py",
   "mimetype": "text/x-python",
   "name": "python",
   "nbconvert_exporter": "python",
   "pygments_lexer": "ipython3",
   "version": "3.12.2"
  }
 },
 "nbformat": 4,
 "nbformat_minor": 4
}
